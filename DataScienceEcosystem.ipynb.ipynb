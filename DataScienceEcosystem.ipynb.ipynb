{
 "cells": [
  {
   "cell_type": "markdown",
   "metadata": {},
   "source": [
    "<center>\n",
    "    <img src=\"https://cf-courses-data.s3.us.cloud-object-storage.appdomain.cloud/IBMDeveloperSkillsNetwork-DS0105EN-SkillsNetwork/labs/Module2/images/SN_web_lightmode.png\" width=\"300\" alt=\"cognitiveclass.ai logo\">\n",
    "</center>\n"
   ]
  },
  {
   "cell_type": "markdown",
   "metadata": {},
   "source": [
    "#### Add your code below following the instructions given in the course\n"
   ]
  },
  {
   "cell_type": "markdown",
   "metadata": {},
   "source": [
    "# Data Science Tools and Ecosystem"
   ]
  },
  {
   "cell_type": "markdown",
   "metadata": {},
   "source": [
    "### 3. Introduction\n",
    "\n",
    "In this notebook, Data Science Tools and Ecosystem are summarized."
   ]
  },
  {
   "cell_type": "markdown",
   "metadata": {},
   "source": [
    "### 4. list data science languages\n",
    "1. Python\n",
    "1. R\n",
    "1. SQL\n",
    "1. Julia\n",
    "1. Scala\n",
    "1. MATLAB\n",
    "1. SAS\n",
    "1. Java\n",
    "1. C/C++\n",
    "1. STATA"
   ]
  },
  {
   "cell_type": "markdown",
   "metadata": {},
   "source": [
    "### 5. list data science libraries\n",
    "\n",
    "1. NumPy\n",
    "1. Pandas\n",
    "1. Matplotlib\n",
    "1. PyTorch\n",
    "1. Seaborn\n",
    "1. NLTK (Natural Language Toolkit)\n",
    "1. SciPy\n",
    "\n"
   ]
  },
  {
   "cell_type": "markdown",
   "metadata": {},
   "source": [
    "### 6. table of Data Science tools\n",
    "| Tool           | Description                                                          |\n",
    "|----------------|----------------------------------------------------------------------|\n",
    "| Python         | General-purpose programming language with rich data science libraries |\n",
    "| R              | Statistical programming language and environment                     |\n",
    "| SQL            | Query language for working with relational databases                  |\n",
    "| Jupyter Notebook | Interactive environment for data analysis and visualization          |\n",
    "| Anaconda       | Distribution of Python and R with pre-installed data science packages |\n",
    "| TensorFlow     | Open-source machine learning framework                               |\n",
    "| PyTorch        | Deep learning library for Python                                      |\n",
    "| scikit-learn   | Machine learning library for Python                                  |\n",
    "| NumPy          | Library for numerical computing in Python                            |\n",
    "| Pandas         | Data manipulation and analysis library for Python                     |\n",
    "| Matplotlib     | Data visualization library for Python                                |\n",
    "| Seaborn        | Statistical data visualization library for Python                     |\n",
    "| Plotly         | Interactive visualization library for Python                          |\n",
    "| Hadoop         | Distributed processing framework for big data                         |\n",
    "| Spark          | Distributed data processing and analytics engine                      |"
   ]
  },
  {
   "cell_type": "markdown",
   "metadata": {},
   "source": [
    "### 7.introducing arithmetic expression examples\n",
    "\n",
    "\n",
    "1. Addition:\n",
    "   - `2 + 3` evaluates to 5\n",
    "   - `10 + (-4)` evaluates to 6\n",
    "\n",
    "2. Subtraction:\n",
    "   - `5 - 2` evaluates to 3\n",
    "   - `8 - (-3)` evaluates to 11\n",
    "\n",
    "3. Multiplication:\n",
    "   - `4 * 6` evaluates to 24\n",
    "   - `-2 * 5` evaluates to -10\n",
    "\n",
    "4. Division:\n",
    "   - `10 / 2` evaluates to 5\n",
    "   - `7 / 3` evaluates to 2.333...\n",
    "\n",
    "5. Exponentiation:\n",
    "   - `2 ** 3` (2 raised to the power of 3) evaluates to 8\n",
    "   - `(-3) ** 2` (negative 3 raised to the power of 2) evaluates to 9\n",
    "\n",
    "6. Modulo (Remainder):\n",
    "   - `10 % 3` (remainder when 10 is divided by 3) evaluates to 1\n",
    "   - `15 % 4` (remainder when 15 is divided by 4) evaluates to 3"
   ]
  },
  {
   "cell_type": "markdown",
   "metadata": {
    "tags": []
   },
   "source": [
    "### 8.multiply and add numbers\n"
   ]
  },
  {
   "cell_type": "code",
   "execution_count": 8,
   "metadata": {
    "tags": []
   },
   "outputs": [
    {
     "name": "stdout",
     "output_type": "stream",
     "text": [
      "The product of 5 and 3 is 15\n",
      "The sum of 10 and 7 is 17\n"
     ]
    }
   ],
   "source": [
    "# Multiplication\n",
    "num1 = 5\n",
    "num2 = 3\n",
    "product = num1 * num2\n",
    "print(\"The product of\", num1, \"and\", num2, \"is\", product)\n",
    "\n",
    "# Addition\n",
    "num3 = 10\n",
    "num4 = 7\n",
    "sum = num3 + num4\n",
    "print(\"The sum of\", num3, \"and\", num4, \"is\", sum)"
   ]
  },
  {
   "cell_type": "markdown",
   "metadata": {
    "tags": []
   },
   "source": [
    "### 9. convert minutes to hours\n"
   ]
  },
  {
   "cell_type": "code",
   "execution_count": 6,
   "metadata": {
    "tags": []
   },
   "outputs": [
    {
     "name": "stdout",
     "output_type": "stream",
     "text": [
      "150 minutes is equal to 2.5 hours\n"
     ]
    }
   ],
   "source": [
    "# Convert minutes to hours\n",
    "minutes = 150\n",
    "hours = minutes / 60\n",
    "\n",
    "print(minutes, \"minutes is equal to\", hours, \"hours\")"
   ]
  },
  {
   "cell_type": "markdown",
   "metadata": {},
   "source": [
    "### 10. list Objectives\n",
    "\n",
    "- Create a markdown cell with the title of the notebook.\n",
    "- Create a markdown cell for an introduction.\n",
    "- Create a markdown cell to list data science languages.\n",
    "- Create a markdown cell to list data science libraries.\n",
    "- Create a markdown cell with a table of Data Science tools.\n",
    "- Create a markdown cell introducing arithmetic expression examples.\n",
    "- Create a code cell to multiply and add numbers.\n",
    "- Create a code cell to convert minutes to hours.\n",
    "- Insert a markdown cell to list Objectives.\n",
    "- Create a markdown cell to indicate the Author's name.\n",
    "- Share your notebook through GitHub.\n",
    "- Take a screenshot of the first page of the notebook.\n"
   ]
  },
  {
   "cell_type": "markdown",
   "metadata": {},
   "source": [
    "## Author: MINGSHU WANG"
   ]
  },
  {
   "cell_type": "code",
   "execution_count": null,
   "metadata": {},
   "outputs": [],
   "source": []
  }
 ],
 "metadata": {
  "kernelspec": {
   "display_name": "Python",
   "language": "python",
   "name": "conda-env-python-py"
  },
  "language_info": {
   "codemirror_mode": {
    "name": "ipython",
    "version": 3
   },
   "file_extension": ".py",
   "mimetype": "text/x-python",
   "name": "python",
   "nbconvert_exporter": "python",
   "pygments_lexer": "ipython3",
   "version": "3.7.12"
  }
 },
 "nbformat": 4,
 "nbformat_minor": 4
}
